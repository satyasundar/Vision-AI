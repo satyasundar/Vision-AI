{
 "cells": [
  {
   "cell_type": "markdown",
   "metadata": {
    "colab_type": "text",
    "id": "aO-7t1Y7-hV4"
   },
   "source": [
    "# Import Libraries"
   ]
  },
  {
   "cell_type": "code",
   "execution_count": 1,
   "metadata": {
    "colab": {},
    "colab_type": "code",
    "id": "8kH16rnZ7wt_"
   },
   "outputs": [],
   "source": [
    "from __future__ import print_function\n",
    "import os\n",
    "import shutil\n",
    "import numpy as np\n",
    "import torch\n",
    "import torch.nn as nn\n",
    "import torch.nn.functional as F\n",
    "import torch.optim as optim\n",
    "from torchvision import datasets, transforms\n",
    "from tqdm import tqdm\n",
    "# Let's visualize some of the images\n",
    "%matplotlib inline\n",
    "import matplotlib.pyplot as plt"
   ]
  },
  {
   "cell_type": "code",
   "execution_count": 2,
   "metadata": {},
   "outputs": [],
   "source": [
    "best_acc1 = 0\n",
    "tmp_best_acc1 = 0"
   ]
  },
  {
   "cell_type": "markdown",
   "metadata": {},
   "source": [
    "### Optimum values found for L1-penalty-weight & L2-weight-decay\n",
    "    - The appropriate values for l1 & l2 related weights were found after coarsely sweeping thru values from 0.1, 0.01, 0.001, 0.0001, 0.00001, 0.000001 first.\n",
    "    - For l1-weight, with l1-alone enabled, the 0.00001 region was found with better values for the validation accuracy vis-a-vis training accuracies.\n",
    "    - Much finer sweeping in the 0.00001 region, led to the value: 0.000025, which seems to be having best accuracy values.\n",
    "    - Similarly, For l2-weight,  with l2-alone enabled, the 0.0001 region was found with better values for the validation accuracy vis-a-vis training accuracies.\n",
    "    - Much finer sweeping in the 0.0001 region, led to the value: 0.0002125, which seems to be having best accuracy values.\n",
    "    - For individual models, either or both of them will be enabled/disbaled using some related flags defined ahead in this notebook\n",
    "    - Please note, L2 regaularization implementation is in-built with torch. "
   ]
  },
  {
   "cell_type": "code",
   "execution_count": 3,
   "metadata": {},
   "outputs": [],
   "source": [
    "l1_weight = 0.000025 ##Appears to be the best with the reference NW we have used here\n",
    "l2_weight_decay = 0.0002125 ##Appears to be the best with the reference NW we have used here"
   ]
  },
  {
   "cell_type": "code",
   "execution_count": 4,
   "metadata": {},
   "outputs": [],
   "source": [
    "train_losses = []\n",
    "test_losses = []\n",
    "train_acc = []\n",
    "test_acc = []"
   ]
  },
  {
   "cell_type": "code",
   "execution_count": 5,
   "metadata": {},
   "outputs": [],
   "source": [
    "class_names = ['airplane',\n",
    "               'automobile',\n",
    "               'bird',\n",
    "               'cat',\n",
    "               'deer',\n",
    "               'dog',\n",
    "               'frog',\n",
    "               'horse',\n",
    "               'ship',\n",
    "               'truck']"
   ]
  },
  {
   "cell_type": "markdown",
   "metadata": {
    "colab_type": "text",
    "id": "ky3f_Odl-7um"
   },
   "source": [
    "##  Dataset and Creating Train/Test Split & Data Transformations\n",
    "\n",
    "We first start with defining our data transformations. We need to think what our data is and how can we augment it to correct represent images which it might not see otherwise. \n"
   ]
  },
  {
   "cell_type": "code",
   "execution_count": 6,
   "metadata": {},
   "outputs": [
    {
     "name": "stdout",
     "output_type": "stream",
     "text": [
      "Files already downloaded and verified\n",
      "(1600000, 32, 3)\n",
      "[0.49139968 0.48215841 0.44653091] [0.24703223 0.24348513 0.26158784]\n"
     ]
    }
   ],
   "source": [
    "# load the training data\n",
    "cifar10_train = datasets.CIFAR10('./data', train=True, download=True)\n",
    "# use np.concatenate to stick all the images together to form a 1600000 X 32 X 3 array\n",
    "x = np.concatenate([np.asarray(cifar10_train[i][0]) for i in range(len(cifar10_train))])\n",
    "# print(x)\n",
    "print(x.shape)\n",
    "# calculate the mean and std along the (0, 1) axes\n",
    "train_mean = np.mean(x, axis=(0, 1))/255\n",
    "train_std = np.std(x, axis=(0, 1))/255\n",
    "# the the mean and std\n",
    "print(train_mean, train_std)"
   ]
  },
  {
   "cell_type": "code",
   "execution_count": 7,
   "metadata": {},
   "outputs": [],
   "source": [
    "# Train Phase transformations\n",
    "train_transforms = transforms.Compose([\n",
    "                                      #  transforms.Resize((28, 28)),\n",
    "                                      #  transforms.ColorJitter(brightness=0.10, contrast=0.1, saturation=0.10, hue=0.1),\n",
    "                                       #transforms.RandomRotation((-10.0, 10.0), fill=(1,)),\n",
    "                                       transforms.ToTensor(),\n",
    "                                       transforms.Normalize((0.49139968, 0.48215841, 0.44653091), (0.24703223, 0.24348513, 0.26158784)) # The mean and std have to be sequences (e.g., tuples), therefore you should add a comma after the values. \n",
    "                                       # Note the difference between (0.1307) and (0.1307,)\n",
    "                                       ])\n",
    "\n",
    "# Test Phase transformations\n",
    "test_transforms = transforms.Compose([\n",
    "                                      #  transforms.Resize((28, 28)),\n",
    "                                      #  transforms.ColorJitter(brightness=0.10, contrast=0.1, saturation=0.10, hue=0.1),\n",
    "                                       transforms.ToTensor(),\n",
    "                                       transforms.Normalize((0.49139968, 0.48215841, 0.44653091), (0.24703223, 0.24348513, 0.26158784))\n",
    "                                       ])"
   ]
  },
  {
   "cell_type": "code",
   "execution_count": 8,
   "metadata": {},
   "outputs": [
    {
     "name": "stdout",
     "output_type": "stream",
     "text": [
      "Files already downloaded and verified\n",
      "Files already downloaded and verified\n"
     ]
    }
   ],
   "source": [
    "train_cifar10 = datasets.CIFAR10('./data', train=True, download=True, transform=train_transforms)\n",
    "test_cifar10 = datasets.CIFAR10('./data', train=False, download=True, transform=test_transforms)"
   ]
  },
  {
   "cell_type": "code",
   "execution_count": 9,
   "metadata": {},
   "outputs": [
    {
     "data": {
      "text/plain": [
       "['airplane',\n",
       " 'automobile',\n",
       " 'bird',\n",
       " 'cat',\n",
       " 'deer',\n",
       " 'dog',\n",
       " 'frog',\n",
       " 'horse',\n",
       " 'ship',\n",
       " 'truck']"
      ]
     },
     "execution_count": 9,
     "metadata": {},
     "output_type": "execute_result"
    }
   ],
   "source": [
    "test_cifar10.classes"
   ]
  },
  {
   "cell_type": "markdown",
   "metadata": {
    "colab_type": "text",
    "id": "qgldp_3-Dn0c"
   },
   "source": [
    "# Dataloader Arguments & Test/Train Dataloaders\n"
   ]
  },
  {
   "cell_type": "code",
   "execution_count": 10,
   "metadata": {
    "colab": {
     "base_uri": "https://localhost:8080/",
     "height": 35
    },
    "colab_type": "code",
    "id": "C8OLDR79DrHG",
    "outputId": "eaf0336c-adcd-401e-a1a0-30be3802010a"
   },
   "outputs": [
    {
     "name": "stdout",
     "output_type": "stream",
     "text": [
      "CUDA Available? True\n"
     ]
    }
   ],
   "source": [
    "SEED = 1\n",
    "\n",
    "# CUDA?\n",
    "cuda = torch.cuda.is_available()\n",
    "print(\"CUDA Available?\", cuda)\n",
    "\n",
    "# For reproducibility\n",
    "torch.manual_seed(SEED)\n",
    "\n",
    "if cuda:\n",
    "    torch.cuda.manual_seed(SEED)\n",
    "\n",
    "# dataloader arguments - something you'll fetch these from cmdprmt\n",
    "dataloader_args = dict(shuffle=True, batch_size=64, num_workers=4, pin_memory=True) if cuda else dict(shuffle=True, batch_size=64)\n",
    "\n",
    "# train dataloader\n",
    "train_loader = torch.utils.data.DataLoader(train_cifar10, **dataloader_args)\n",
    "\n",
    "# test dataloader\n",
    "test_loader = torch.utils.data.DataLoader(test_cifar10, **dataloader_args)"
   ]
  },
  {
   "cell_type": "markdown",
   "metadata": {
    "colab_type": "text",
    "id": "-TFjoFekE_va"
   },
   "source": [
    "# Data Statistics\n",
    "\n",
    "It is important to know your data very well. Let's check some of the statistics around our data and how it actually looks like"
   ]
  },
  {
   "cell_type": "code",
   "execution_count": 11,
   "metadata": {
    "colab": {
     "base_uri": "https://localhost:8080/",
     "height": 499
    },
    "colab_type": "code",
    "id": "hWZPPo3yEHDW",
    "outputId": "a2f75bf5-4c08-4c83-9d31-e3c863efa6d1"
   },
   "outputs": [
    {
     "name": "stdout",
     "output_type": "stream",
     "text": [
      "[Train]\n",
      " - Numpy Shape: (50000, 32, 32, 3)\n",
      " - Tensor Shape: torch.Size([50000, 32, 32, 3])\n",
      " - min: tensor(0, dtype=torch.uint8)\n",
      " - max: tensor(255, dtype=torch.uint8)\n"
     ]
    },
    {
     "name": "stderr",
     "output_type": "stream",
     "text": [
      "Clipping input data to the valid range for imshow with RGB data ([0..1] for floats or [0..255] for integers).\n"
     ]
    },
    {
     "name": "stdout",
     "output_type": "stream",
     "text": [
      "torch.Size([64, 3, 32, 32])\n",
      "torch.Size([64])\n"
     ]
    },
    {
     "data": {
      "image/png": "[encoded data removed]",
      "text/plain": [
       "<Figure size 432x288 with 1 Axes>"
      ]
     },
     "metadata": {
      "needs_background": "light"
     },
     "output_type": "display_data"
    }
   ],
   "source": [
    "# We'd need to convert it into Numpy! Remember above we have converted it into tensors already\n",
    "train_data = torch.from_numpy(train_cifar10.data)\n",
    "print('[Train]')\n",
    "print(' - Numpy Shape:', torch.from_numpy(train_cifar10.data).cpu().numpy().shape)\n",
    "print(' - Tensor Shape:', torch.from_numpy(train_cifar10.data).size())\n",
    "print(' - min:', torch.min(torch.from_numpy(train_cifar10.data)))\n",
    "print(' - max:', torch.max(torch.from_numpy(train_cifar10.data)))\n",
    "\n",
    "dataiter = iter(train_loader)\n",
    "images, labels = dataiter.next()\n",
    "\n",
    "print(images.shape)\n",
    "print(labels.shape)\n",
    "img_number = np.random.randint(images.shape[0])\n",
    "plt.figure().suptitle('{} '.format(class_names[labels[img_number]]), fontsize=20)\n",
    "_= plt.imshow(images.numpy().squeeze()[img_number,::].transpose((1,2,0)), interpolation='nearest')"
   ]
  },
  {
   "cell_type": "code",
   "execution_count": 12,
   "metadata": {},
   "outputs": [
    {
     "data": {
      "image/png": "[encoded data removed]",
      "text/plain": [
       "<Figure size 576x216 with 10 Axes>"
      ]
     },
     "metadata": {},
     "output_type": "display_data"
    }
   ],
   "source": [
    "num_classes = len(np.unique(train_cifar10.targets))\n",
    "num_classes\n",
    "fig = plt.figure(figsize=(8,3))\n",
    "for i in range(num_classes):\n",
    "    ax = fig.add_subplot(2, 5, 1 + i, xticks=[], yticks=[])\n",
    "    idx = np.where(np.array(train_cifar10.targets)[:]==i)[0]\n",
    "    features_idx = train_loader.dataset.data[idx,::]\n",
    "    img_num = np.random.randint(features_idx.shape[0])\n",
    "    im = features_idx[img_num]\n",
    "    ax.set_title(class_names[i])\n",
    "    plt.imshow(im)\n",
    "plt.show()"
   ]
  },
  {
   "cell_type": "markdown",
   "metadata": {},
   "source": [
    "# Training and Testing related routines\n",
    "\n",
    "Looking at logs can be boring, so we'll introduce **tqdm** progressbar to get cooler logs. \n",
    "\n",
    "Let's write train and test functions"
   ]
  },
  {
   "cell_type": "code",
   "execution_count": 17,
   "metadata": {},
   "outputs": [],
   "source": [
    "def l1_penalty(x):\n",
    "    #L1 regularization adds an L1 penalty equal\n",
    "    #to the absolute value of the magnitude of coefficients\n",
    "    return torch.abs(x).sum()\n",
    "\n",
    "def save_checkpoint(state, is_best, filename='checkpoint.pth.tar'):\n",
    "    torch.save(state, filename)\n",
    "    if is_best:\n",
    "        shutil.copyfile(filename, 'model_best.pth.tar')\n",
    "\n",
    "\n",
    "def train(model, device, train_loader, optimizer, epoch, L1=False):\n",
    "    model.train()\n",
    "    pbar = tqdm(train_loader)\n",
    "    correct = 0\n",
    "    processed = 0\n",
    "    for batch_idx, (data, target) in enumerate(pbar):\n",
    "        \n",
    "        # get samples\n",
    "        data, target = data.to(device), target.to(device)\n",
    "\n",
    "        # Init\n",
    "        optimizer.zero_grad()\n",
    "        # In PyTorch, we need to set the gradients to zero before starting to do backpropragation because PyTorch accumulates the gradients on subsequent backward passes. \n",
    "        # Because of this, when you start your training loop, ideally you should zero out the gradients so that you do the parameter update correctly.\n",
    "\n",
    "        # Predict\n",
    "        y_pred = model(data)\n",
    "        if L1:\n",
    "            to_reg = []\n",
    "            for param in model.parameters():\n",
    "                to_reg.append(param.view(-1))\n",
    "            l1 = l1_weight*l1_penalty(torch.cat(to_reg))\n",
    "        else:\n",
    "            l1 = 0\n",
    "        # Calculate loss\n",
    "        #L1 regularization adds an L1 penalty equal to the \n",
    "        #absolute value of the magnitude of coefficients\n",
    "        loss = F.nll_loss(y_pred, target) + l1 #torch.nn.CrossEntropyLoss:criterion combines\n",
    "                                               #nn.LogSoftmax() and nn.NLLLoss() in one single class.    \n",
    "        train_losses.append(loss)\n",
    "\n",
    "        # Backpropagation\n",
    "        loss.backward()\n",
    "        optimizer.step()\n",
    "\n",
    "        # Update pbar-tqdm\n",
    "\n",
    "        pred = y_pred.argmax(dim=1, keepdim=True)  # get the index of the max log-probability\n",
    "        correct += pred.eq(target.view_as(pred)).sum().item()\n",
    "        processed += len(data)\n",
    "\n",
    "        pbar.set_description(desc= f'Loss={loss.item()} Batch_id={batch_idx} Accuracy={100*correct/processed:0.2f}')\n",
    "        train_acc.append(100*correct/processed)\n",
    "\n",
    "def test(model, device, test_loader, epoch):\n",
    "    global best_acc1, tmp_best_acc1\n",
    "    model.eval()\n",
    "    test_loss = 0\n",
    "    correct = 0\n",
    "    acc1 = 0\n",
    "    with torch.no_grad():\n",
    "        for data, target in test_loader:\n",
    "            data, target = data.to(device), target.to(device)\n",
    "            output = model(data)\n",
    "            test_loss += F.nll_loss(output, target, reduction='sum').item()  # sum up batch loss\n",
    "            pred = output.argmax(dim=1, keepdim=True)  # get the index of the max log-probability\n",
    "            correct += pred.eq(target.view_as(pred)).sum().item()\n",
    "\n",
    "    test_loss /= len(test_loader.dataset)\n",
    "    test_losses.append(test_loss)\n",
    "\n",
    "    print('\\nTest set: Average loss: {:.4f}, Accuracy: {}/{} ({:.2f}%)\\n'.format(\n",
    "        test_loss, correct, len(test_loader.dataset),\n",
    "        100. * correct / len(test_loader.dataset)))\n",
    "    acc1 = 100. * correct / len(test_loader.dataset)\n",
    "    is_best = acc1 > best_acc1\n",
    "    tmp_best_acc1 = best_acc1\n",
    "    best_acc1 = max(acc1, best_acc1)\n",
    "    # Prepare model model saving directory.\n",
    "    if is_best:\n",
    "        save_dir = os.path.join(os.getcwd(), 'saved_models')\n",
    "        model_name = 'CIFAR10_model_epoch-{}_L1-{}_L2-{}_val_acc-{}.h5'.format(epoch+1, int(L1), int(L2), acc1) \n",
    "        if not os.path.isdir(save_dir):\n",
    "            os.makedirs(save_dir)\n",
    "        filepath = os.path.join(save_dir, model_name)\n",
    "        print(\"validation-accuracy improved from {} to {}, saving model to {}\".format(tmp_best_acc1, best_acc1, filepath))\n",
    "        save_checkpoint({\n",
    "            'epoch': epoch + 1,\n",
    "            'state_dict': model.state_dict(),\n",
    "            'best_acc1': best_acc1,\n",
    "            'optimizer' : optimizer.state_dict(),\n",
    "        }, is_best, filename=filepath)\n",
    "    test_acc.append(100. * correct / len(test_loader.dataset))"
   ]
  },
  {
   "cell_type": "markdown",
   "metadata": {},
   "source": [
    "### model-prediction & mislabelled image display related routines\n"
   ]
  },
  {
   "cell_type": "code",
   "execution_count": 19,
   "metadata": {},
   "outputs": [],
   "source": [
    "def model_pred(model, device, y_test, batchsize=100):\n",
    "    from sklearn.metrics import confusion_matrix, classification_report\n",
    "    start = 0\n",
    "    stop = batchsize\n",
    "    model.eval()\n",
    "    dataldr_args = dict(shuffle=False, batch_size=batchsize, num_workers=4, pin_memory=True) if cuda else dict(shuffle=False, batch_size=10000)\n",
    "    test_ldr = torch.utils.data.DataLoader(test_cifar10, **dataldr_args)\n",
    "    y_pred = np.zeros((y_test.shape[0], 1))\n",
    "    with torch.no_grad():\n",
    "        for data, target in test_ldr:\n",
    "            batch_nums = np.arange(start, stop)\n",
    "            data, target = data.to(device), target.to(device)\n",
    "            output = model(data)\n",
    "            y_pred[batch_nums]  = output.argmax(dim=1, keepdim=True).cpu().numpy() \n",
    "            start +=batchsize\n",
    "            stop  +=batchsize\n",
    "    print(confusion_matrix(y_test, y_pred))\n",
    "    print(classification_report(y_test, y_pred, target_names=class_names))\n",
    "    return y_pred\n",
    "\n",
    "\n",
    "def display_mislabelled(model, device, x_test, y_test, y_pred, title_str):\n",
    "    fig = plt.figure(figsize=(55,10))\n",
    "    fig.suptitle(title_str, fontsize=24)\n",
    "    idx1 = np.where(y_test[:] != y_pred)[0]\n",
    "    for j in range(3):\n",
    "        for i in range(len(class_names)):\n",
    "            ax = fig.add_subplot(3, 10, j*10+i+1, xticks=[], yticks=[])\n",
    "            idx = np.where(y_test[:] == i)[0]\n",
    "            intsct = np.intersect1d(idx1, idx)\n",
    "            features_idx = x_test[intsct, ::]\n",
    "            img_num = np.random.randint(features_idx.shape[0])\n",
    "            im = features_idx[img_num]\n",
    "            ax.set_title('Act:{} '.format(class_names[int(i)]) + ' Pred:{} '.format(class_names[int(y_pred[intsct[img_num]][0])]), fontsize=24)\n",
    "            plt.imshow(im)\n",
    "    plt.show()"
   ]
  },
  {
   "cell_type": "markdown",
   "metadata": {},
   "source": [
    "### routine to load any model from saved file"
   ]
  },
  {
   "cell_type": "code",
   "execution_count": 20,
   "metadata": {},
   "outputs": [],
   "source": [
    "def load_model(describe_model_nn, model_name):\n",
    "    save_dir = os.path.join(os.getcwd(), 'saved_models')\n",
    "    if not os.path.isdir(save_dir):\n",
    "        os.makedirs(save_dir)\n",
    "    filepath = os.path.join(save_dir, model_name)\n",
    "    model = describe_model_nn #describe_model_nn is for example: Net1()\n",
    "    checkpoint = torch.load(filepath)\n",
    "    model.load_state_dict(checkpoint['state_dict'])\n",
    "    model.to(device)\n",
    "    return  model"
   ]
  },
  {
   "cell_type": "markdown",
   "metadata": {},
   "source": [
    "### routine to save & load the validation-accuracy & validation-loss data  for any model"
   ]
  },
  {
   "cell_type": "code",
   "execution_count": 21,
   "metadata": {},
   "outputs": [],
   "source": [
    "def save_acc_loss(test_losses, test_acc, test_loss_file_name,  test_acc_file_name):\n",
    "    import os\n",
    "    import numpy as np\n",
    "    # Prepare model model saving directory.\n",
    "    save_dir = os.path.join(os.getcwd(), 'saved_data')\n",
    "    if not os.path.isdir(save_dir):\n",
    "        os.makedirs(save_dir)\n",
    "    filepath_test_loss  = os.path.join(save_dir, test_loss_file_name)\n",
    "    filepath_test_acc  = os.path.join(save_dir, test_acc_file_name)\n",
    "    np.save(filepath_test_loss,test_losses)\n",
    "    np.save(filepath_test_acc,test_acc)\n",
    "    \n",
    "\n",
    "def load_acc_loss(test_loss_file_name,  test_acc_file_name):\n",
    "    # Prepare model model saving directory.\n",
    "    save_dir = os.path.join(os.getcwd(), 'saved_data')\n",
    "    if not os.path.isdir(save_dir):\n",
    "        os.makedirs(save_dir)\n",
    "    filepath_test_loss  = os.path.join(save_dir, test_loss_file_name)\n",
    "    filepath_test_acc  = os.path.join(save_dir, test_acc_file_name)\n",
    "    loaded_test_losses = np.load(filepath_test_loss).tolist()\n",
    "    loaded_test_acc = np.load(filepath_test_acc).tolist()\n",
    "    return loaded_test_losses, loaded_test_acc"
   ]
  },
  {
   "cell_type": "markdown",
   "metadata": {},
   "source": [
    "### routine to plot 4 accuracies and 4 losses in 2 separate plots"
   ]
  },
  {
   "cell_type": "code",
   "execution_count": 22,
   "metadata": {},
   "outputs": [],
   "source": [
    "def plot_curves(first_acc, second_acc, third_acc, fourth_acc,\n",
    "                first_loss, second_loss, third_loss, fourth_loss):\n",
    "    fig, axs = plt.subplots(1,2,figsize=(20,10))\n",
    "    _= axs[0].plot(first_acc)\n",
    "    _= axs[0].plot(second_acc)\n",
    "    _= axs[0].plot(third_acc)\n",
    "    _= axs[0].plot(fourth_acc)\n",
    "    _= axs[0].set_title('model test accuracies', fontsize=22)\n",
    "    _= axs[0].set_ylabel('test-accuracy', fontsize=18)\n",
    "    _= axs[0].set_xlabel('epoch', fontsize=18)\n",
    "    _= axs[0].legend(['without L1 & L2', 'with L1 alone', 'with L2 alone', 'with both L1 & L2'], loc='upper left')\n",
    "    _= axs[1].plot(first_loss)\n",
    "    _= axs[1].plot(second_loss)\n",
    "    _= axs[1].plot(third_loss)\n",
    "    _= axs[1].plot(fourth_loss)\n",
    "    _= axs[1].set_title('model test losses', fontsize=22)\n",
    "    _= axs[1].set_ylabel('test-loss', fontsize=18)\n",
    "    _= axs[1].set_xlabel('epoch', fontsize=18)\n",
    "    _= axs[1].legend(['without L1 & L2', 'with L1 alone', 'with L2 alone', 'with both L1 & L2'], loc='upper right')"
   ]
  },
  {
   "cell_type": "markdown",
   "metadata": {
    "colab_type": "text",
    "id": "ubQL3H6RJL3h"
   },
   "source": [
    "# The model\n",
    "Let's start with the model we first saw, the base-line/refernce model being used here is as shown in the table below:\n",
    "Please note that my earlier assignment's 5th model had a learning rate-step-LR based change in learning rate, to enter a crevice of higher accuracy within 15 epochs.The same if used as a baseline will have this extra LR as a variable.The effects of L1 & L2 penalties would not be obvious for that earlier NW, hence am starting out with the 3rd Stable NW from assignment-5\n"
   ]
  },
  {
   "cell_type": "markdown",
   "metadata": {},
   "source": [
    "![alt text](model_dgm.png \"Title\")"
   ]
  },
  {
   "cell_type": "markdown",
   "metadata": {},
   "source": [
    "# 1. model,  40 epochs, with L1 alone"
   ]
  },
  {
   "cell_type": "code",
   "execution_count": 23,
   "metadata": {},
   "outputs": [],
   "source": [
    "L1 = True #without L1-penalty \n",
    "L2 = False #without L2-penalty"
   ]
  },
  {
   "cell_type": "code",
   "execution_count": 24,
   "metadata": {},
   "outputs": [],
   "source": [
    "class SeparableConv2d(nn.Module):\n",
    "    def __init__(self,in_channels,out_channels,kernel_size=1,stride=1,padding=0,dilation=1,bias=False):\n",
    "        super(SeparableConv2d,self).__init__()\n",
    "        self.convblock = nn.Sequential(\n",
    "            nn.Conv2d(in_channels,in_channels,kernel_size,stride,padding,dilation=dilation,groups=in_channels,bias=bias),\n",
    "            nn.Conv2d(in_channels,out_channels,1,1,0,1,1,bias=bias),\n",
    "        )\n",
    "    def forward(self,x):\n",
    "        x = self.convblock(x)\n",
    "        return x"
   ]
  },
  {
   "cell_type": "code",
   "execution_count": 25,
   "metadata": {
    "colab": {},
    "colab_type": "code",
    "id": "7FXQlB9kH1ov"
   },
   "outputs": [],
   "source": [
    "dropout_value = 0.05\n",
    "class Net1(nn.Module):\n",
    "    def __init__(self):\n",
    "        super(Net1, self).__init__()\n",
    "        # C1 Block\n",
    "        self.convblock1 = nn.Sequential(\n",
    "            SeparableConv2d(in_channels=3, out_channels=64, kernel_size=(3, 3), padding=1, bias=False),\n",
    "            nn.BatchNorm2d(64),\n",
    "            nn.Dropout(dropout_value),\n",
    "            nn.ReLU(),\n",
    "        )#input:28x28x1, output:26x26x8, RF:3x3\n",
    "        self.convblock2 = nn.Sequential(\n",
    "            SeparableConv2d(in_channels=64, out_channels=128, kernel_size=(3, 3), padding=2, bias=False, dilation=2),\n",
    "            nn.BatchNorm2d(128),\n",
    "            nn.Dropout(dropout_value),\n",
    "            nn.ReLU(),\n",
    "        ) #input:26x26x8, output:24x24x8, RF:5x5\n",
    "\n",
    "        # TRANSITION BLOCK 1\n",
    "        self.pool1 = nn.MaxPool2d(2, 2) #input:24x24x8, output:12x12x8, RF:6x6\n",
    "        self.convblock3 = nn.Sequential(\n",
    "            nn.Conv2d(in_channels=128, out_channels=64, kernel_size=(1, 1), padding=0, bias=False),\n",
    "            nn.BatchNorm2d(64),\n",
    "            nn.Dropout(dropout_value),\n",
    "            nn.ReLU(),\n",
    "        ) #input:12x12x8, output:12x12x8, RF:6x6\n",
    "        \n",
    "\n",
    "        # C2 Block\n",
    "        self.convblock4 = nn.Sequential(\n",
    "            SeparableConv2d(in_channels=64, out_channels=128, kernel_size=(3, 3), padding=1, bias=False),\n",
    "            nn.BatchNorm2d(128),\n",
    "            nn.Dropout(dropout_value),\n",
    "            nn.ReLU(),            \n",
    "        ) #input:12x12x8, output:10x10x16, RF:10x10\n",
    "        \n",
    "        # TRANSITION BLOCK 2\n",
    "        self.pool2 = nn.MaxPool2d(2, 2) #input:24x24x8, output:12x12x8, RF:6x6\n",
    "        self.convblock5 = nn.Sequential(\n",
    "            nn.Conv2d(in_channels=128, out_channels=64, kernel_size=(1, 1), padding=0, bias=False),\n",
    "            nn.BatchNorm2d(64),\n",
    "            nn.Dropout(dropout_value),\n",
    "            nn.ReLU(),\n",
    "        ) #input:12x12x8, output:12x12x8, RF:6x6\n",
    "        \n",
    "        # C3 Block\n",
    "        self.convblock6 = nn.Sequential(\n",
    "            SeparableConv2d(in_channels=64, out_channels=128, kernel_size=(3, 3), padding=1, bias=False),\n",
    "            nn.BatchNorm2d(128),\n",
    "            nn.Dropout(dropout_value),\n",
    "            nn.ReLU(),            \n",
    "        )#input:10x10x16, output:8x8x16, RF:14x14\n",
    "        \n",
    "        # TRANSITION BLOCK 3\n",
    "        self.pool3 = nn.MaxPool2d(2, 2) #input:24x24x8, output:12x12x8, RF:6x6\n",
    "        self.convblock7 = nn.Sequential(\n",
    "            nn.Conv2d(in_channels=128, out_channels=64, kernel_size=(1, 1), padding=0, bias=False),\n",
    "            nn.BatchNorm2d(64),\n",
    "            nn.Dropout(dropout_value),\n",
    "            nn.ReLU(),\n",
    "        ) #input:12x12x8, output:12x12x8, RF:6x6  \n",
    "        \n",
    "        # C4 Block\n",
    "        self.convblock8 = nn.Sequential(\n",
    "            SeparableConv2d(in_channels=64, out_channels=64, kernel_size=(3, 3), padding=1, bias=False),\n",
    "            nn.BatchNorm2d(64),\n",
    "            nn.Dropout(dropout_value),\n",
    "            nn.ReLU(),            \n",
    "        ) #input:8x8x16, output:6x6x16, RF:18x18\n",
    "        \n",
    "        # OUTPUT BLOCK\n",
    "        self.gap = nn.Sequential(\n",
    "            nn.AvgPool2d(kernel_size=4)\n",
    "        ) #input:6x6x16, output:1x1x16, RF:32x32\n",
    "\n",
    "        self.convblock9 = nn.Sequential(\n",
    "            nn.Conv2d(in_channels=64, out_channels=10, kernel_size=(1, 1), padding=0, bias=False),\n",
    "        ) #input:1x1x16, output:1x1x10,\n",
    "\n",
    "    def forward(self, x):\n",
    "        # C1 Block\n",
    "        x = self.convblock1(x)\n",
    "        x = self.convblock2(x)\n",
    "        # TRANSITION BLOCK 1\n",
    "        x = self.pool1(x)\n",
    "        x = self.convblock3(x)\n",
    "        # C2 Block\n",
    "        x = self.convblock4(x)\n",
    "        # TRANSITION BLOCK 2\n",
    "        x = self.pool2(x)\n",
    "        x = self.convblock5(x)\n",
    "        # C3 Block\n",
    "        x = self.convblock6(x)\n",
    "        # TRANSITION BLOCK 3\n",
    "        x = self.pool3(x)\n",
    "        x = self.convblock7(x)\n",
    "        # C4 Block\n",
    "        x = self.convblock8(x)\n",
    "        # OUTPUT BLOCK\n",
    "        x = self.gap(x)        \n",
    "        x = self.convblock9(x)\n",
    "        # Reshape\n",
    "        x = x.view(-1, 10)\n",
    "        return F.log_softmax(x, dim=-1) #the torch.nn.CrossEntropyLoss, criterion combines\n",
    "                                        #nn.LogSoftmax() and nn.NLLLoss() in one single class."
   ]
  },
  {
   "cell_type": "markdown",
   "metadata": {
    "colab_type": "text",
    "id": "M3-vp8X9LCWo"
   },
   "source": [
    "# Model Params\n",
    "Can't emphasize on how important viewing Model Summary is. \n",
    "Unfortunately, there is no in-built model visualizer, so we have to take external help"
   ]
  },
  {
   "cell_type": "code",
   "execution_count": 26,
   "metadata": {
    "colab": {
     "base_uri": "https://localhost:8080/",
     "height": 791
    },
    "colab_type": "code",
    "id": "5skB97zIJQQe",
    "outputId": "3a9a41a3-9023-42ba-c71b-d97ff3139b3b"
   },
   "outputs": [
    {
     "name": "stdout",
     "output_type": "stream",
     "text": [
      "cuda\n",
      "----------------------------------------------------------------\n",
      "        Layer (type)               Output Shape         Param #\n",
      "================================================================\n",
      "            Conv2d-1            [-1, 3, 32, 32]              27\n",
      "            Conv2d-2           [-1, 64, 32, 32]             192\n",
      "   SeparableConv2d-3           [-1, 64, 32, 32]               0\n",
      "       BatchNorm2d-4           [-1, 64, 32, 32]             128\n",
      "           Dropout-5           [-1, 64, 32, 32]               0\n",
      "              ReLU-6           [-1, 64, 32, 32]               0\n",
      "            Conv2d-7           [-1, 64, 32, 32]             576\n",
      "            Conv2d-8          [-1, 128, 32, 32]           8,192\n",
      "   SeparableConv2d-9          [-1, 128, 32, 32]               0\n",
      "      BatchNorm2d-10          [-1, 128, 32, 32]             256\n",
      "          Dropout-11          [-1, 128, 32, 32]               0\n",
      "             ReLU-12          [-1, 128, 32, 32]               0\n",
      "        MaxPool2d-13          [-1, 128, 16, 16]               0\n",
      "           Conv2d-14           [-1, 64, 16, 16]           8,192\n",
      "      BatchNorm2d-15           [-1, 64, 16, 16]             128\n",
      "          Dropout-16           [-1, 64, 16, 16]               0\n",
      "             ReLU-17           [-1, 64, 16, 16]               0\n",
      "           Conv2d-18           [-1, 64, 16, 16]             576\n",
      "           Conv2d-19          [-1, 128, 16, 16]           8,192\n",
      "  SeparableConv2d-20          [-1, 128, 16, 16]               0\n",
      "      BatchNorm2d-21          [-1, 128, 16, 16]             256\n",
      "          Dropout-22          [-1, 128, 16, 16]               0\n",
      "             ReLU-23          [-1, 128, 16, 16]               0\n",
      "        MaxPool2d-24            [-1, 128, 8, 8]               0\n",
      "           Conv2d-25             [-1, 64, 8, 8]           8,192\n",
      "      BatchNorm2d-26             [-1, 64, 8, 8]             128\n",
      "          Dropout-27             [-1, 64, 8, 8]               0\n",
      "             ReLU-28             [-1, 64, 8, 8]               0\n",
      "           Conv2d-29             [-1, 64, 8, 8]             576\n",
      "           Conv2d-30            [-1, 128, 8, 8]           8,192\n",
      "  SeparableConv2d-31            [-1, 128, 8, 8]               0\n",
      "      BatchNorm2d-32            [-1, 128, 8, 8]             256\n",
      "          Dropout-33            [-1, 128, 8, 8]               0\n",
      "             ReLU-34            [-1, 128, 8, 8]               0\n",
      "        MaxPool2d-35            [-1, 128, 4, 4]               0\n",
      "           Conv2d-36             [-1, 64, 4, 4]           8,192\n",
      "      BatchNorm2d-37             [-1, 64, 4, 4]             128\n",
      "          Dropout-38             [-1, 64, 4, 4]               0\n",
      "             ReLU-39             [-1, 64, 4, 4]               0\n",
      "           Conv2d-40             [-1, 64, 4, 4]             576\n",
      "           Conv2d-41             [-1, 64, 4, 4]           4,096\n",
      "  SeparableConv2d-42             [-1, 64, 4, 4]               0\n",
      "      BatchNorm2d-43             [-1, 64, 4, 4]             128\n",
      "          Dropout-44             [-1, 64, 4, 4]               0\n",
      "             ReLU-45             [-1, 64, 4, 4]               0\n",
      "        AvgPool2d-46             [-1, 64, 1, 1]               0\n",
      "           Conv2d-47             [-1, 10, 1, 1]             640\n",
      "================================================================\n",
      "Total params: 57,819\n",
      "Trainable params: 57,819\n",
      "Non-trainable params: 0\n",
      "----------------------------------------------------------------\n",
      "Input size (MB): 0.01\n",
      "Forward/backward pass size (MB): 10.77\n",
      "Params size (MB): 0.22\n",
      "Estimated Total Size (MB): 11.01\n",
      "----------------------------------------------------------------\n"
     ]
    }
   ],
   "source": [
    "#!pip install torchsummary\n",
    "from torchsummary import summary\n",
    "use_cuda = torch.cuda.is_available()\n",
    "device = torch.device(\"cuda\" if use_cuda else \"cpu\")\n",
    "print(device)\n",
    "model1 = Net1().to(device)\n",
    "summary(model1, input_size=(3, 32, 32))"
   ]
  },
  {
   "cell_type": "markdown",
   "metadata": {
    "colab_type": "text",
    "id": "drokW8wWODKq"
   },
   "source": [
    "# Let's Train and test our model"
   ]
  },
  {
   "cell_type": "code",
   "execution_count": 21,
   "metadata": {
    "colab": {
     "base_uri": "https://localhost:8080/",
     "height": 1000
    },
    "colab_type": "code",
    "id": "xMCFxeAKOB53",
    "outputId": "618afea6-3c67-4ec3-8206-5dcf89edf43c",
    "scrolled": false
   },
   "outputs": [
    {
     "name": "stdout",
     "output_type": "stream",
     "text": [
      "EPOCH: 1\n"
     ]
    },
    {
     "name": "stderr",
     "output_type": "stream",
     "text": [
      "Loss=0.9716601967811584 Batch_id=781 Accuracy=46.20: 100%|███████████████████████████| 782/782 [00:39<00:00, 20.02it/s]\n"
     ]
    },
    {
     "name": "stdout",
     "output_type": "stream",
     "text": [
      "\n",
      "Test set: Average loss: 1.3070, Accuracy: 5345/10000 (53.45%)\n",
      "\n",
      "validation-accuracy improved from 0 to 53.45, saving model to D:\\PG-ML\\eva4\\week7\\saved_models\\CIFAR10_model_epoch-1_L1-1_L2-0_val_acc-53.45.h5\n",
      "EPOCH: 2\n"
     ]
    },
    {
     "name": "stderr",
     "output_type": "stream",
     "text": [
      "Loss=1.3412349224090576 Batch_id=781 Accuracy=61.69: 100%|███████████████████████████| 782/782 [00:39<00:00, 20.00it/s]\n"
     ]
    },
    {
     "name": "stdout",
     "output_type": "stream",
     "text": [
      "\n",
      "Test set: Average loss: 1.1244, Accuracy: 6018/10000 (60.18%)\n",
      "\n",
      "validation-accuracy improved from 53.45 to 60.18, saving model to D:\\PG-ML\\eva4\\week7\\saved_models\\CIFAR10_model_epoch-2_L1-1_L2-0_val_acc-60.18.h5\n",
      "EPOCH: 3\n"
     ]
    },
    {
     "name": "stderr",
     "output_type": "stream",
     "text": [
      "Loss=1.0065510272979736 Batch_id=781 Accuracy=67.21: 100%|███████████████████████████| 782/782 [00:39<00:00, 19.99it/s]\n"
     ]
    },
    {
     "name": "stdout",
     "output_type": "stream",
     "text": [
      "\n",
      "Test set: Average loss: 0.9458, Accuracy: 6657/10000 (66.57%)\n",
      "\n",
      "validation-accuracy improved from 60.18 to 66.57, saving model to D:\\PG-ML\\eva4\\week7\\saved_models\\CIFAR10_model_epoch-3_L1-1_L2-0_val_acc-66.57.h5\n",
      "EPOCH: 4\n"
     ]
    },
    {
     "name": "stderr",
     "output_type": "stream",
     "text": [
      "Loss=0.4409160912036896 Batch_id=781 Accuracy=70.33: 100%|███████████████████████████| 782/782 [00:39<00:00, 19.78it/s]\n"
     ]
    },
    {
     "name": "stdout",
     "output_type": "stream",
     "text": [
      "\n",
      "Test set: Average loss: 0.8602, Accuracy: 7040/10000 (70.40%)\n",
      "\n",
      "validation-accuracy improved from 66.57 to 70.4, saving model to D:\\PG-ML\\eva4\\week7\\saved_models\\CIFAR10_model_epoch-4_L1-1_L2-0_val_acc-70.4.h5\n",
      "EPOCH: 5\n"
     ]
    },
    {
     "name": "stderr",
     "output_type": "stream",
     "text": [
      "Loss=0.524391770362854 Batch_id=781 Accuracy=72.73: 100%|████████████████████████████| 782/782 [00:39<00:00, 19.95it/s]\n"
     ]
    },
    {
     "name": "stdout",
     "output_type": "stream",
     "text": [
      "\n",
      "Test set: Average loss: 0.7616, Accuracy: 7330/10000 (73.30%)\n",
      "\n",
      "validation-accuracy improved from 70.4 to 73.3, saving model to D:\\PG-ML\\eva4\\week7\\saved_models\\CIFAR10_model_epoch-5_L1-1_L2-0_val_acc-73.3.h5\n",
      "EPOCH: 6\n"
     ]
    },
    {
     "name": "stderr",
     "output_type": "stream",
     "text": [
      "Loss=0.5638612508773804 Batch_id=781 Accuracy=74.69: 100%|███████████████████████████| 782/782 [00:39<00:00, 19.78it/s]\n"
     ]
    },
    {
     "name": "stdout",
     "output_type": "stream",
     "text": [
      "\n",
      "Test set: Average loss: 0.7749, Accuracy: 7274/10000 (72.74%)\n",
      "\n",
      "EPOCH: 7\n"
     ]
    },
    {
     "name": "stderr",
     "output_type": "stream",
     "text": [
      "Loss=0.4855955243110657 Batch_id=781 Accuracy=76.15: 100%|███████████████████████████| 782/782 [00:39<00:00, 19.79it/s]\n"
     ]
    },
    {
     "name": "stdout",
     "output_type": "stream",
     "text": [
      "\n",
      "Test set: Average loss: 0.8081, Accuracy: 7194/10000 (71.94%)\n",
      "\n",
      "EPOCH: 8\n"
     ]
    },
    {
     "name": "stderr",
     "output_type": "stream",
     "text": [
      "Loss=0.5581735968589783 Batch_id=781 Accuracy=77.43: 100%|███████████████████████████| 782/782 [00:39<00:00, 20.00it/s]\n"
     ]
    },
    {
     "name": "stdout",
     "output_type": "stream",
     "text": [
      "\n",
      "Test set: Average loss: 0.7667, Accuracy: 7334/10000 (73.34%)\n",
      "\n",
      "validation-accuracy improved from 73.3 to 73.34, saving model to D:\\PG-ML\\eva4\\week7\\saved_models\\CIFAR10_model_epoch-8_L1-1_L2-0_val_acc-73.34.h5\n",
      "EPOCH: 9\n"
     ]
    },
    {
     "name": "stderr",
     "output_type": "stream",
     "text": [
      "Loss=0.5147180557250977 Batch_id=781 Accuracy=78.21: 100%|███████████████████████████| 782/782 [00:39<00:00, 19.99it/s]\n"
     ]
    },
    {
     "name": "stdout",
     "output_type": "stream",
     "text": [
      "\n",
      "Test set: Average loss: 0.6752, Accuracy: 7691/10000 (76.91%)\n",
      "\n",
      "validation-accuracy improved from 73.34 to 76.91, saving model to D:\\PG-ML\\eva4\\week7\\saved_models\\CIFAR10_model_epoch-9_L1-1_L2-0_val_acc-76.91.h5\n",
      "EPOCH: 10\n"
     ]
    },
    {
     "name": "stderr",
     "output_type": "stream",
     "text": [
      "Loss=0.8015247583389282 Batch_id=781 Accuracy=79.06: 100%|███████████████████████████| 782/782 [00:39<00:00, 19.99it/s]\n"
     ]
    },
    {
     "name": "stdout",
     "output_type": "stream",
     "text": [
      "\n",
      "Test set: Average loss: 0.6631, Accuracy: 7727/10000 (77.27%)\n",
      "\n",
      "validation-accuracy improved from 76.91 to 77.27, saving model to D:\\PG-ML\\eva4\\week7\\saved_models\\CIFAR10_model_epoch-10_L1-1_L2-0_val_acc-77.27.h5\n",
      "EPOCH: 11\n"
     ]
    },
    {
     "name": "stderr",
     "output_type": "stream",
     "text": [
      "Loss=0.7235488295555115 Batch_id=781 Accuracy=79.60: 100%|███████████████████████████| 782/782 [00:39<00:00, 19.93it/s]\n"
     ]
    },
    {
     "name": "stdout",
     "output_type": "stream",
     "text": [
      "\n",
      "Test set: Average loss: 0.6799, Accuracy: 7635/10000 (76.35%)\n",
      "\n",
      "EPOCH: 12\n"
     ]
    },
    {
     "name": "stderr",
     "output_type": "stream",
     "text": [
      "Loss=0.7278296947479248 Batch_id=781 Accuracy=80.31: 100%|███████████████████████████| 782/782 [00:40<00:00, 19.54it/s]\n"
     ]
    },
    {
     "name": "stdout",
     "output_type": "stream",
     "text": [
      "\n",
      "Test set: Average loss: 0.6477, Accuracy: 7775/10000 (77.75%)\n",
      "\n",
      "validation-accuracy improved from 77.27 to 77.75, saving model to D:\\PG-ML\\eva4\\week7\\saved_models\\CIFAR10_model_epoch-12_L1-1_L2-0_val_acc-77.75.h5\n",
      "EPOCH: 13\n"
     ]
    },
    {
     "name": "stderr",
     "output_type": "stream",
     "text": [
      "Loss=0.8402858376502991 Batch_id=781 Accuracy=80.87: 100%|███████████████████████████| 782/782 [00:42<00:00, 18.23it/s]\n"
     ]
    },
    {
     "name": "stdout",
     "output_type": "stream",
     "text": [
      "\n",
      "Test set: Average loss: 0.6721, Accuracy: 7674/10000 (76.74%)\n",
      "\n",
      "EPOCH: 14\n"
     ]
    },
    {
     "name": "stderr",
     "output_type": "stream",
     "text": [
      "Loss=0.4658941924571991 Batch_id=781 Accuracy=81.27: 100%|███████████████████████████| 782/782 [00:39<00:00, 19.97it/s]\n"
     ]
    },
    {
     "name": "stdout",
     "output_type": "stream",
     "text": [
      "\n",
      "Test set: Average loss: 0.6301, Accuracy: 7800/10000 (78.00%)\n",
      "\n",
      "validation-accuracy improved from 77.75 to 78.0, saving model to D:\\PG-ML\\eva4\\week7\\saved_models\\CIFAR10_model_epoch-14_L1-1_L2-0_val_acc-78.0.h5\n",
      "EPOCH: 15\n"
     ]
    },
    {
     "name": "stderr",
     "output_type": "stream",
     "text": [
      "Loss=0.36543208360671997 Batch_id=781 Accuracy=81.83: 100%|██████████████████████████| 782/782 [00:39<00:00, 20.00it/s]\n"
     ]
    },
    {
     "name": "stdout",
     "output_type": "stream",
     "text": [
      "\n",
      "Test set: Average loss: 0.6987, Accuracy: 7584/10000 (75.84%)\n",
      "\n",
      "EPOCH: 16\n"
     ]
    },
    {
     "name": "stderr",
     "output_type": "stream",
     "text": [
      "Loss=0.2142392098903656 Batch_id=781 Accuracy=81.95: 100%|███████████████████████████| 782/782 [00:39<00:00, 19.94it/s]\n"
     ]
    },
    {
     "name": "stdout",
     "output_type": "stream",
     "text": [
      "\n",
      "Test set: Average loss: 0.6727, Accuracy: 7740/10000 (77.40%)\n",
      "\n",
      "EPOCH: 17\n"
     ]
    },
    {
     "name": "stderr",
     "output_type": "stream",
     "text": [
      "Loss=0.4537639021873474 Batch_id=781 Accuracy=82.73: 100%|███████████████████████████| 782/782 [00:39<00:00, 19.95it/s]\n"
     ]
    },
    {
     "name": "stdout",
     "output_type": "stream",
     "text": [
      "\n",
      "Test set: Average loss: 0.7033, Accuracy: 7661/10000 (76.61%)\n",
      "\n",
      "EPOCH: 18\n"
     ]
    },
    {
     "name": "stderr",
     "output_type": "stream",
     "text": [
      "Loss=0.5358160734176636 Batch_id=781 Accuracy=82.92: 100%|███████████████████████████| 782/782 [00:39<00:00, 19.86it/s]\n"
     ]
    },
    {
     "name": "stdout",
     "output_type": "stream",
     "text": [
      "\n",
      "Test set: Average loss: 0.5811, Accuracy: 7983/10000 (79.83%)\n",
      "\n",
      "validation-accuracy improved from 78.0 to 79.83, saving model to D:\\PG-ML\\eva4\\week7\\saved_models\\CIFAR10_model_epoch-18_L1-1_L2-0_val_acc-79.83.h5\n",
      "EPOCH: 19\n"
     ]
    },
    {
     "name": "stderr",
     "output_type": "stream",
     "text": [
      "Loss=0.3986873924732208 Batch_id=781 Accuracy=83.45: 100%|███████████████████████████| 782/782 [00:39<00:00, 19.78it/s]\n"
     ]
    },
    {
     "name": "stdout",
     "output_type": "stream",
     "text": [
      "\n",
      "Test set: Average loss: 0.5961, Accuracy: 7940/10000 (79.40%)\n",
      "\n",
      "EPOCH: 20\n"
     ]
    },
    {
     "name": "stderr",
     "output_type": "stream",
     "text": [
      "Loss=1.1048436164855957 Batch_id=781 Accuracy=83.58: 100%|███████████████████████████| 782/782 [00:39<00:00, 19.84it/s]\n"
     ]
    },
    {
     "name": "stdout",
     "output_type": "stream",
     "text": [
      "\n",
      "Test set: Average loss: 0.6449, Accuracy: 7857/10000 (78.57%)\n",
      "\n",
      "EPOCH: 21\n"
     ]
    },
    {
     "name": "stderr",
     "output_type": "stream",
     "text": [
      "Loss=0.512848973274231 Batch_id=781 Accuracy=83.86: 100%|████████████████████████████| 782/782 [00:39<00:00, 19.88it/s]\n"
     ]
    },
    {
     "name": "stdout",
     "output_type": "stream",
     "text": [
      "\n",
      "Test set: Average loss: 0.6092, Accuracy: 7913/10000 (79.13%)\n",
      "\n",
      "EPOCH: 22\n"
     ]
    },
    {
     "name": "stderr",
     "output_type": "stream",
     "text": [
      "Loss=0.41277021169662476 Batch_id=781 Accuracy=84.21: 100%|██████████████████████████| 782/782 [00:39<00:00, 19.92it/s]\n"
     ]
    },
    {
     "name": "stdout",
     "output_type": "stream",
     "text": [
      "\n",
      "Test set: Average loss: 0.5937, Accuracy: 7988/10000 (79.88%)\n",
      "\n",
      "validation-accuracy improved from 79.83 to 79.88, saving model to D:\\PG-ML\\eva4\\week7\\saved_models\\CIFAR10_model_epoch-22_L1-1_L2-0_val_acc-79.88.h5\n",
      "EPOCH: 23\n"
     ]
    },
    {
     "name": "stderr",
     "output_type": "stream",
     "text": [
      "Loss=0.35014504194259644 Batch_id=781 Accuracy=84.58: 100%|██████████████████████████| 782/782 [00:39<00:00, 19.82it/s]\n"
     ]
    },
    {
     "name": "stdout",
     "output_type": "stream",
     "text": [
      "\n",
      "Test set: Average loss: 0.6252, Accuracy: 7883/10000 (78.83%)\n",
      "\n",
      "EPOCH: 24\n"
     ]
    },
    {
     "name": "stderr",
     "output_type": "stream",
     "text": [
      "Loss=0.343058705329895 Batch_id=781 Accuracy=84.77: 100%|████████████████████████████| 782/782 [00:39<00:00, 19.83it/s]\n"
     ]
    },
    {
     "name": "stdout",
     "output_type": "stream",
     "text": [
      "\n",
      "Test set: Average loss: 0.5764, Accuracy: 8083/10000 (80.83%)\n",
      "\n",
      "validation-accuracy improved from 79.88 to 80.83, saving model to D:\\PG-ML\\eva4\\week7\\saved_models\\CIFAR10_model_epoch-24_L1-1_L2-0_val_acc-80.83.h5\n",
      "EPOCH: 25\n"
     ]
    },
    {
     "name": "stderr",
     "output_type": "stream",
     "text": [
      "Loss=0.3980933129787445 Batch_id=781 Accuracy=84.78: 100%|███████████████████████████| 782/782 [00:40<00:00, 19.55it/s]\n"
     ]
    },
    {
     "name": "stdout",
     "output_type": "stream",
     "text": [
      "\n",
      "Test set: Average loss: 0.5948, Accuracy: 7981/10000 (79.81%)\n",
      "\n",
      "EPOCH: 26\n"
     ]
    },
    {
     "name": "stderr",
     "output_type": "stream",
     "text": [
      "Loss=0.9966412782669067 Batch_id=781 Accuracy=85.47: 100%|███████████████████████████| 782/782 [00:39<00:00, 19.78it/s]\n"
     ]
    },
    {
     "name": "stdout",
     "output_type": "stream",
     "text": [
      "\n",
      "Test set: Average loss: 0.6166, Accuracy: 7919/10000 (79.19%)\n",
      "\n",
      "EPOCH: 27\n"
     ]
    },
    {
     "name": "stderr",
     "output_type": "stream",
     "text": [
      "Loss=1.188391089439392 Batch_id=781 Accuracy=85.31: 100%|████████████████████████████| 782/782 [00:39<00:00, 19.86it/s]\n"
     ]
    },
    {
     "name": "stdout",
     "output_type": "stream",
     "text": [
      "\n",
      "Test set: Average loss: 0.5922, Accuracy: 8006/10000 (80.06%)\n",
      "\n",
      "EPOCH: 28\n"
     ]
    },
    {
     "name": "stderr",
     "output_type": "stream",
     "text": [
      "Loss=0.35659366846084595 Batch_id=781 Accuracy=85.63: 100%|██████████████████████████| 782/782 [00:39<00:00, 19.91it/s]\n"
     ]
    },
    {
     "name": "stdout",
     "output_type": "stream",
     "text": [
      "\n",
      "Test set: Average loss: 0.5783, Accuracy: 8063/10000 (80.63%)\n",
      "\n",
      "EPOCH: 29\n"
     ]
    },
    {
     "name": "stderr",
     "output_type": "stream",
     "text": [
      "Loss=0.6107515096664429 Batch_id=781 Accuracy=86.10: 100%|███████████████████████████| 782/782 [00:39<00:00, 19.77it/s]\n"
     ]
    },
    {
     "name": "stdout",
     "output_type": "stream",
     "text": [
      "\n",
      "Test set: Average loss: 0.6197, Accuracy: 7921/10000 (79.21%)\n",
      "\n",
      "EPOCH: 30\n"
     ]
    },
    {
     "name": "stderr",
     "output_type": "stream",
     "text": [
      "Loss=0.483569860458374 Batch_id=781 Accuracy=85.95: 100%|████████████████████████████| 782/782 [00:39<00:00, 19.75it/s]\n"
     ]
    },
    {
     "name": "stdout",
     "output_type": "stream",
     "text": [
      "\n",
      "Test set: Average loss: 0.5927, Accuracy: 8008/10000 (80.08%)\n",
      "\n",
      "EPOCH: 31\n"
     ]
    },
    {
     "name": "stderr",
     "output_type": "stream",
     "text": [
      "Loss=0.7053028345108032 Batch_id=781 Accuracy=86.07: 100%|███████████████████████████| 782/782 [00:39<00:00, 19.95it/s]\n"
     ]
    },
    {
     "name": "stdout",
     "output_type": "stream",
     "text": [
      "\n",
      "Test set: Average loss: 0.5860, Accuracy: 8067/10000 (80.67%)\n",
      "\n",
      "EPOCH: 32\n"
     ]
    },
    {
     "name": "stderr",
     "output_type": "stream",
     "text": [
      "Loss=0.474185973405838 Batch_id=781 Accuracy=86.68: 100%|████████████████████████████| 782/782 [00:39<00:00, 19.95it/s]\n"
     ]
    },
    {
     "name": "stdout",
     "output_type": "stream",
     "text": [
      "\n",
      "Test set: Average loss: 0.5967, Accuracy: 8008/10000 (80.08%)\n",
      "\n",
      "EPOCH: 33\n"
     ]
    },
    {
     "name": "stderr",
     "output_type": "stream",
     "text": [
      "Loss=0.6773715615272522 Batch_id=781 Accuracy=86.54: 100%|███████████████████████████| 782/782 [00:39<00:00, 19.97it/s]\n"
     ]
    },
    {
     "name": "stdout",
     "output_type": "stream",
     "text": [
      "\n",
      "Test set: Average loss: 0.5843, Accuracy: 8053/10000 (80.53%)\n",
      "\n",
      "EPOCH: 34\n"
     ]
    },
    {
     "name": "stderr",
     "output_type": "stream",
     "text": [
      "Loss=0.7049911618232727 Batch_id=781 Accuracy=86.65: 100%|███████████████████████████| 782/782 [00:39<00:00, 19.91it/s]\n"
     ]
    },
    {
     "name": "stdout",
     "output_type": "stream",
     "text": [
      "\n",
      "Test set: Average loss: 0.5671, Accuracy: 8076/10000 (80.76%)\n",
      "\n",
      "EPOCH: 35\n"
     ]
    },
    {
     "name": "stderr",
     "output_type": "stream",
     "text": [
      "Loss=0.5176164507865906 Batch_id=781 Accuracy=86.62: 100%|███████████████████████████| 782/782 [00:39<00:00, 19.72it/s]\n"
     ]
    },
    {
     "name": "stdout",
     "output_type": "stream",
     "text": [
      "\n",
      "Test set: Average loss: 0.5957, Accuracy: 8031/10000 (80.31%)\n",
      "\n",
      "EPOCH: 36\n"
     ]
    },
    {
     "name": "stderr",
     "output_type": "stream",
     "text": [
      "Loss=0.3645068109035492 Batch_id=781 Accuracy=87.00: 100%|███████████████████████████| 782/782 [00:39<00:00, 19.79it/s]\n"
     ]
    },
    {
     "name": "stdout",
     "output_type": "stream",
     "text": [
      "\n",
      "Test set: Average loss: 0.6017, Accuracy: 8009/10000 (80.09%)\n",
      "\n",
      "EPOCH: 37\n"
     ]
    },
    {
     "name": "stderr",
     "output_type": "stream",
     "text": [
      "Loss=1.0083394050598145 Batch_id=781 Accuracy=87.02: 100%|███████████████████████████| 782/782 [00:39<00:00, 19.93it/s]\n"
     ]
    },
    {
     "name": "stdout",
     "output_type": "stream",
     "text": [
      "\n",
      "Test set: Average loss: 0.5681, Accuracy: 8115/10000 (81.15%)\n",
      "\n",
      "validation-accuracy improved from 80.83 to 81.15, saving model to D:\\PG-ML\\eva4\\week7\\saved_models\\CIFAR10_model_epoch-37_L1-1_L2-0_val_acc-81.15.h5\n",
      "EPOCH: 38\n"
     ]
    },
    {
     "name": "stderr",
     "output_type": "stream",
     "text": [
      "Loss=0.5425737500190735 Batch_id=781 Accuracy=87.20: 100%|███████████████████████████| 782/782 [00:39<00:00, 19.93it/s]\n"
     ]
    },
    {
     "name": "stdout",
     "output_type": "stream",
     "text": [
      "\n",
      "Test set: Average loss: 0.5932, Accuracy: 8075/10000 (80.75%)\n",
      "\n",
      "EPOCH: 39\n"
     ]
    },
    {
     "name": "stderr",
     "output_type": "stream",
     "text": [
      "Loss=0.3140729069709778 Batch_id=781 Accuracy=87.59: 100%|███████████████████████████| 782/782 [00:39<00:00, 19.91it/s]\n"
     ]
    },
    {
     "name": "stdout",
     "output_type": "stream",
     "text": [
      "\n",
      "Test set: Average loss: 0.6103, Accuracy: 7999/10000 (79.99%)\n",
      "\n",
      "EPOCH: 40\n"
     ]
    },
    {
     "name": "stderr",
     "output_type": "stream",
     "text": [
      "Loss=0.8436259031295776 Batch_id=781 Accuracy=87.28: 100%|███████████████████████████| 782/782 [00:39<00:00, 19.89it/s]\n"
     ]
    },
    {
     "name": "stdout",
     "output_type": "stream",
     "text": [
      "\n",
      "Test set: Average loss: 0.6315, Accuracy: 7942/10000 (79.42%)\n",
      "\n"
     ]
    }
   ],
   "source": [
    "model1 =  Net1().to(device)\n",
    "#Enable L2-regularization with supplied value of weight decay, or keep it default-0\n",
    "if L2:\n",
    "    weight_decay = l2_weight_decay\n",
    "else:\n",
    "    weight_decay = 0    \n",
    "    \n",
    "optimizer = optim.SGD(model1.parameters(), lr=0.01, momentum=0.9, weight_decay=weight_decay)\n",
    "\n",
    "EPOCHS = 40\n",
    "for epoch in range(EPOCHS):\n",
    "    print(\"EPOCH:\", epoch+1)\n",
    "    train(model1, device, train_loader, optimizer, epoch)\n",
    "    test(model1, device, test_loader, epoch)"
   ]
  },
  {
   "cell_type": "code",
   "execution_count": 22,
   "metadata": {
    "colab": {
     "base_uri": "https://localhost:8080/",
     "height": 625
    },
    "colab_type": "code",
    "id": "87RaqGSEOWDe",
    "outputId": "89421979-bf85-4f34-cfee-0e467a4f3a0a"
   },
   "outputs": [
    {
     "data": {
      "text/plain": [
       "Text(0.5, 1.0, 'Test Accuracy')"
      ]
     },
     "execution_count": 22,
     "metadata": {},
     "output_type": "execute_result"
    },
    {
     "data": {
      "image/png": "[encoded data removed]",
      "text/plain": [
       "<Figure size 1080x720 with 4 Axes>"
      ]
     },
     "metadata": {
      "needs_background": "light"
     },
     "output_type": "display_data"
    }
   ],
   "source": [
    "fig, axs = plt.subplots(2,2,figsize=(15,10))\n",
    "axs[0, 0].plot(train_losses)\n",
    "axs[0, 0].set_title(\"Training Loss\")\n",
    "axs[1, 0].plot(train_acc[4000:])\n",
    "axs[1, 0].set_title(\"Training Accuracy\")\n",
    "axs[0, 1].plot(test_losses)\n",
    "axs[0, 1].set_title(\"Test Loss\")\n",
    "axs[1, 1].plot(test_acc)\n",
    "axs[1, 1].set_title(\"Test Accuracy\")"
   ]
  },
  {
   "cell_type": "markdown",
   "metadata": {},
   "source": [
    "### save the validation-accuracy & validation-loss data  for the  model with L1 alone"
   ]
  },
  {
   "cell_type": "code",
   "execution_count": 46,
   "metadata": {},
   "outputs": [],
   "source": [
    "save_acc_loss(test_losses, \n",
    "              test_acc, \n",
    "              test_loss_file_name='test_loss_l1_{}_l2_{}.npy'.format(int(L1), int(L2)),\n",
    "              test_acc_file_name='test_acc_l1_{}_l2_{}.npy'.format(int(L1), int(L2))\n",
    "             )"
   ]
  },
  {
   "cell_type": "markdown",
   "metadata": {},
   "source": [
    "### an example load for the validation-accuracy & validation-loss data  for the  model with L1 alone\n",
    "        - Once having saved as a file, these acc/loss values can be loaded anytime"
   ]
  },
  {
   "cell_type": "code",
   "execution_count": 24,
   "metadata": {},
   "outputs": [],
   "source": [
    "#Load these data points later using code as below\n",
    "test_loss_l1_0_l2_0, test_acc_l1_0_l2_0 = load_acc_loss(\n",
    "                                                         test_loss_file_name='test_loss_l1_{}_l2_{}.npy'.format(int(L1), int(L2)),\n",
    "                                                         test_acc_file_name='test_acc_l1_{}_l2_{}.npy'.format(int(L1), int(L2))\n",
    "                                                         )"
   ]
  },
  {
   "cell_type": "code",
   "execution_count": 25,
   "metadata": {},
   "outputs": [
    {
     "data": {
      "text/plain": [
       "Text(0.5, 1.0, 'Test Loss')"
      ]
     },
     "execution_count": 25,
     "metadata": {},
     "output_type": "execute_result"
    },
    {
     "data": {
      "image/png": "[encoded data removed]",
      "text/plain": [
       "<Figure size 1080x360 with 2 Axes>"
      ]
     },
     "metadata": {
      "needs_background": "light"
     },
     "output_type": "display_data"
    }
   ],
   "source": [
    "fig, axs = plt.subplots(1,2,figsize=(15,5))\n",
    "axs[0].plot(test_acc_l1_0_l2_0)\n",
    "axs[0].set_title(\"Test Accuracy\")\n",
    "axs[1].plot(test_loss_l1_0_l2_0)\n",
    "axs[1].set_title(\"Test Loss\")"
   ]
  },
  {
   "cell_type": "markdown",
   "metadata": {},
   "source": [
    "### an example load of  the  model with L1 alone\n",
    "        - Once having saved as a file, these best model can be loaded anytime, by giving the name"
   ]
  },
  {
   "cell_type": "code",
   "execution_count": 22,
   "metadata": {},
   "outputs": [],
   "source": [
    "model = load_model(Net1(), model_name='CIFAR10_model_epoch-37_L1-1_L2-0_val_acc-81.15.h5')"
   ]
  },
  {
   "cell_type": "markdown",
   "metadata": {},
   "source": [
    "### confusion matrix & classification-report for this model prdection\n",
    "        - load the best model as above and get the predictions"
   ]
  },
  {
   "cell_type": "code",
   "execution_count": 23,
   "metadata": {},
   "outputs": [
    {
     "name": "stdout",
     "output_type": "stream",
     "text": [
      "[[860   5  34  14  11   4  11  13  30  18]\n",
      " [ 15 885   0   5   1   5  17  10  21  41]\n",
      " [ 51   1 703  28  55  48  72  36   3   3]\n",
      " [ 17   2  43 623  42 163  69  39   0   2]\n",
      " [ 11   1  29  35 786  30  55  48   5   0]\n",
      " [ 10   2  23 102  29 774  19  41   0   0]\n",
      " [  3   1  13  38  19  17 896  11   1   1]\n",
      " [ 15   0  14  20  30  44   3 873   0   1]\n",
      " [ 65  13  14  18   5   1   9   5 859  11]\n",
      " [ 28  49   6  17   3   3   7  15  16 856]]\n",
      "              precision    recall  f1-score   support\n",
      "\n",
      "    airplane       0.80      0.86      0.83      1000\n",
      "  automobile       0.92      0.89      0.90      1000\n",
      "        bird       0.80      0.70      0.75      1000\n",
      "         cat       0.69      0.62      0.66      1000\n",
      "        deer       0.80      0.79      0.79      1000\n",
      "         dog       0.71      0.77      0.74      1000\n",
      "        frog       0.77      0.90      0.83      1000\n",
      "       horse       0.80      0.87      0.84      1000\n",
      "        ship       0.92      0.86      0.89      1000\n",
      "       truck       0.92      0.86      0.89      1000\n",
      "\n",
      "    accuracy                           0.81     10000\n",
      "   macro avg       0.81      0.81      0.81     10000\n",
      "weighted avg       0.81      0.81      0.81     10000\n",
      "\n"
     ]
    }
   ],
   "source": [
    "y_test = np.array(test_cifar10.targets)\n",
    "y_pred  = model_pred(model, device, y_test)"
   ]
  },
  {
   "cell_type": "markdown",
   "metadata": {},
   "source": [
    "### mislabelled images from the model with L1 alone\n",
    "        - load the best model as above and get the predictions"
   ]
  },
  {
   "cell_type": "code",
   "execution_count": null,
   "metadata": {},
   "outputs": [],
   "source": [
    "x_test = test_mnist.test_data.cpu().numpy()"
   ]
  },
  {
   "cell_type": "code",
   "execution_count": 45,
   "metadata": {},
   "outputs": [
    {
     "data": {
      "image/png": "[encoded data removed]",
      "text/plain": [
       "<Figure size 3960x720 with 30 Axes>"
      ]
     },
     "metadata": {},
     "output_type": "display_data"
    }
   ],
   "source": [
    "x_test = test_cifar10.data\n",
    "display_mislabelled(model, device,  x_test, y_test.reshape(-1,1), y_pred, title_str='Predicted Vs Actual With L1' )"
   ]
  },
  {
   "cell_type": "code",
   "execution_count": null,
   "metadata": {},
   "outputs": [],
   "source": []
  },
  {
   "cell_type": "code",
   "execution_count": null,
   "metadata": {},
   "outputs": [],
   "source": []
  },
  {
   "cell_type": "code",
   "execution_count": null,
   "metadata": {},
   "outputs": [],
   "source": []
  }
 ],
 "metadata": {
  "accelerator": "GPU",
  "colab": {
   "collapsed_sections": [],
   "name": "EVA4S5F8.ipynb",
   "provenance": []
  },
  "kernelspec": {
   "display_name": "Python 3",
   "language": "python",
   "name": "python3"
  },
  "language_info": {
   "codemirror_mode": {
    "name": "ipython",
    "version": 3
   },
   "file_extension": ".py",
   "mimetype": "text/x-python",
   "name": "python",
   "nbconvert_exporter": "python",
   "pygments_lexer": "ipython3",
   "version": "3.6.9"
  },
  "widgets": {
   "application/vnd.jupyter.widget-state+json": {
    "03bd0d68849445d3bef8b174ea5928bd": {
     "model_module": "@jupyter-widgets/base",
     "model_name": "LayoutModel",
     "state": {
      "_model_module": "@jupyter-widgets/base",
      "_model_module_version": "1.2.0",
      "_model_name": "LayoutModel",
      "_view_count": null,
      "_view_module": "@jupyter-widgets/base",
      "_view_module_version": "1.2.0",
      "_view_name": "LayoutView",
      "align_content": null,
      "align_items": null,
      "align_self": null,
      "border": null,
      "bottom": null,
      "display": null,
      "flex": null,
      "flex_flow": null,
      "grid_area": null,
      "grid_auto_columns": null,
      "grid_auto_flow": null,
      "grid_auto_rows": null,
      "grid_column": null,
      "grid_gap": null,
      "grid_row": null,
      "grid_template_areas": null,
      "grid_template_columns": null,
      "grid_template_rows": null,
      "height": null,
      "justify_content": null,
      "justify_items": null,
      "left": null,
      "margin": null,
      "max_height": null,
      "max_width": null,
      "min_height": null,
      "min_width": null,
      "object_fit": null,
      "object_position": null,
      "order": null,
      "overflow": null,
      "overflow_x": null,
      "overflow_y": null,
      "padding": null,
      "right": null,
      "top": null,
      "visibility": null,
      "width": null
     }
    },
    "072b453d24a8414c87b07d4338c8884f": {
     "model_module": "@jupyter-widgets/base",
     "model_name": "LayoutModel",
     "state": {
      "_model_module": "@jupyter-widgets/base",
      "_model_module_version": "1.2.0",
      "_model_name": "LayoutModel",
      "_view_count": null,
      "_view_module": "@jupyter-widgets/base",
      "_view_module_version": "1.2.0",
      "_view_name": "LayoutView",
      "align_content": null,
      "align_items": null,
      "align_self": null,
      "border": null,
      "bottom": null,
      "display": null,
      "flex": null,
      "flex_flow": null,
      "grid_area": null,
      "grid_auto_columns": null,
      "grid_auto_flow": null,
      "grid_auto_rows": null,
      "grid_column": null,
      "grid_gap": null,
      "grid_row": null,
      "grid_template_areas": null,
      "grid_template_columns": null,
      "grid_template_rows": null,
      "height": null,
      "justify_content": null,
      "justify_items": null,
      "left": null,
      "margin": null,
      "max_height": null,
      "max_width": null,
      "min_height": null,
      "min_width": null,
      "object_fit": null,
      "object_position": null,
      "order": null,
      "overflow": null,
      "overflow_x": null,
      "overflow_y": null,
      "padding": null,
      "right": null,
      "top": null,
      "visibility": null,
      "width": null
     }
    },
    "0bf3c83cdf094dca880c3052245c8d1c": {
     "model_module": "@jupyter-widgets/controls",
     "model_name": "HTMLModel",
     "state": {
      "_dom_classes": [],
      "_model_module": "@jupyter-widgets/controls",
      "_model_module_version": "1.5.0",
      "_model_name": "HTMLModel",
      "_view_count": null,
      "_view_module": "@jupyter-widgets/controls",
      "_view_module_version": "1.5.0",
      "_view_name": "HTMLView",
      "description": "",
      "description_tooltip": null,
      "layout": "IPY_MODEL_cf63e8ccd272418c8494fd6d827f2a61",
      "placeholder": "​",
      "style": "IPY_MODEL_357bbc3d87304d438c03536839144d83",
      "value": "9920512it [00:04, 2470585.36it/s]"
     }
    },
    "1246f372a600487d8ecbd4998eae31c2": {
     "model_module": "@jupyter-widgets/controls",
     "model_name": "ProgressStyleModel",
     "state": {
      "_model_module": "@jupyter-widgets/controls",
      "_model_module_version": "1.5.0",
      "_model_name": "ProgressStyleModel",
      "_view_count": null,
      "_view_module": "@jupyter-widgets/base",
      "_view_module_version": "1.2.0",
      "_view_name": "StyleView",
      "bar_color": null,
      "description_width": ""
     }
    },
    "13573f73d9084656abad4e48f149ba9d": {
     "model_module": "@jupyter-widgets/controls",
     "model_name": "IntProgressModel",
     "state": {
      "_dom_classes": [],
      "_model_module": "@jupyter-widgets/controls",
      "_model_module_version": "1.5.0",
      "_model_name": "IntProgressModel",
      "_view_count": null,
      "_view_module": "@jupyter-widgets/controls",
      "_view_module_version": "1.5.0",
      "_view_name": "ProgressView",
      "bar_style": "success",
      "description": "",
      "description_tooltip": null,
      "layout": "IPY_MODEL_d83d04fbcc634935ab6f8a496eb90b71",
      "max": 1,
      "min": 0,
      "orientation": "horizontal",
      "style": "IPY_MODEL_e214f7a1bbf94318b801114abf81cd36",
      "value": 1
     }
    },
    "17eb96d47ef646b8bda22b9f52ab5da1": {
     "model_module": "@jupyter-widgets/controls",
     "model_name": "IntProgressModel",
     "state": {
      "_dom_classes": [],
      "_model_module": "@jupyter-widgets/controls",
      "_model_module_version": "1.5.0",
      "_model_name": "IntProgressModel",
      "_view_count": null,
      "_view_module": "@jupyter-widgets/controls",
      "_view_module_version": "1.5.0",
      "_view_name": "ProgressView",
      "bar_style": "success",
      "description": "",
      "description_tooltip": null,
      "layout": "IPY_MODEL_d52bb3dee45740bf8be8ef7f1405dae7",
      "max": 1,
      "min": 0,
      "orientation": "horizontal",
      "style": "IPY_MODEL_1246f372a600487d8ecbd4998eae31c2",
      "value": 1
     }
    },
    "357bbc3d87304d438c03536839144d83": {
     "model_module": "@jupyter-widgets/controls",
     "model_name": "DescriptionStyleModel",
     "state": {
      "_model_module": "@jupyter-widgets/controls",
      "_model_module_version": "1.5.0",
      "_model_name": "DescriptionStyleModel",
      "_view_count": null,
      "_view_module": "@jupyter-widgets/base",
      "_view_module_version": "1.2.0",
      "_view_name": "StyleView",
      "description_width": ""
     }
    },
    "4c5d1c7db74a434ab708eeff61f8bf12": {
     "model_module": "@jupyter-widgets/base",
     "model_name": "LayoutModel",
     "state": {
      "_model_module": "@jupyter-widgets/base",
      "_model_module_version": "1.2.0",
      "_model_name": "LayoutModel",
      "_view_count": null,
      "_view_module": "@jupyter-widgets/base",
      "_view_module_version": "1.2.0",
      "_view_name": "LayoutView",
      "align_content": null,
      "align_items": null,
      "align_self": null,
      "border": null,
      "bottom": null,
      "display": null,
      "flex": null,
      "flex_flow": null,
      "grid_area": null,
      "grid_auto_columns": null,
      "grid_auto_flow": null,
      "grid_auto_rows": null,
      "grid_column": null,
      "grid_gap": null,
      "grid_row": null,
      "grid_template_areas": null,
      "grid_template_columns": null,
      "grid_template_rows": null,
      "height": null,
      "justify_content": null,
      "justify_items": null,
      "left": null,
      "margin": null,
      "max_height": null,
      "max_width": null,
      "min_height": null,
      "min_width": null,
      "object_fit": null,
      "object_position": null,
      "order": null,
      "overflow": null,
      "overflow_x": null,
      "overflow_y": null,
      "padding": null,
      "right": null,
      "top": null,
      "visibility": null,
      "width": null
     }
    },
    "4dcb69893ab240fb84884987e27e5d9b": {
     "model_module": "@jupyter-widgets/controls",
     "model_name": "HBoxModel",
     "state": {
      "_dom_classes": [],
      "_model_module": "@jupyter-widgets/controls",
      "_model_module_version": "1.5.0",
      "_model_name": "HBoxModel",
      "_view_count": null,
      "_view_module": "@jupyter-widgets/controls",
      "_view_module_version": "1.5.0",
      "_view_name": "HBoxView",
      "box_style": "",
      "children": [
       "IPY_MODEL_b9209b9d3d0642b582ff78ada2aae729",
       "IPY_MODEL_7f04bf24d73946f39f2c54908f775201"
      ],
      "layout": "IPY_MODEL_b34a97cf4a0e4e5db3cfcb83d9726e68"
     }
    },
    "59a7bd1c0684424685eb4950bb672cd4": {
     "model_module": "@jupyter-widgets/controls",
     "model_name": "HBoxModel",
     "state": {
      "_dom_classes": [],
      "_model_module": "@jupyter-widgets/controls",
      "_model_module_version": "1.5.0",
      "_model_name": "HBoxModel",
      "_view_count": null,
      "_view_module": "@jupyter-widgets/controls",
      "_view_module_version": "1.5.0",
      "_view_name": "HBoxView",
      "box_style": "",
      "children": [
       "IPY_MODEL_17eb96d47ef646b8bda22b9f52ab5da1",
       "IPY_MODEL_0bf3c83cdf094dca880c3052245c8d1c"
      ],
      "layout": "IPY_MODEL_7a22922189644fd3a646752b23106864"
     }
    },
    "69df46035dad492a92021bb3670f8fd3": {
     "model_module": "@jupyter-widgets/base",
     "model_name": "LayoutModel",
     "state": {
      "_model_module": "@jupyter-widgets/base",
      "_model_module_version": "1.2.0",
      "_model_name": "LayoutModel",
      "_view_count": null,
      "_view_module": "@jupyter-widgets/base",
      "_view_module_version": "1.2.0",
      "_view_name": "LayoutView",
      "align_content": null,
      "align_items": null,
      "align_self": null,
      "border": null,
      "bottom": null,
      "display": null,
      "flex": null,
      "flex_flow": null,
      "grid_area": null,
      "grid_auto_columns": null,
      "grid_auto_flow": null,
      "grid_auto_rows": null,
      "grid_column": null,
      "grid_gap": null,
      "grid_row": null,
      "grid_template_areas": null,
      "grid_template_columns": null,
      "grid_template_rows": null,
      "height": null,
      "justify_content": null,
      "justify_items": null,
      "left": null,
      "margin": null,
      "max_height": null,
      "max_width": null,
      "min_height": null,
      "min_width": null,
      "object_fit": null,
      "object_position": null,
      "order": null,
      "overflow": null,
      "overflow_x": null,
      "overflow_y": null,
      "padding": null,
      "right": null,
      "top": null,
      "visibility": null,
      "width": null
     }
    },
    "6deb8d65a8964424b3470a1b10fc5500": {
     "model_module": "@jupyter-widgets/controls",
     "model_name": "ProgressStyleModel",
     "state": {
      "_model_module": "@jupyter-widgets/controls",
      "_model_module_version": "1.5.0",
      "_model_name": "ProgressStyleModel",
      "_view_count": null,
      "_view_module": "@jupyter-widgets/base",
      "_view_module_version": "1.2.0",
      "_view_name": "StyleView",
      "bar_color": null,
      "description_width": ""
     }
    },
    "7401a52290354e969cc2ecf71210ad9a": {
     "model_module": "@jupyter-widgets/controls",
     "model_name": "DescriptionStyleModel",
     "state": {
      "_model_module": "@jupyter-widgets/controls",
      "_model_module_version": "1.5.0",
      "_model_name": "DescriptionStyleModel",
      "_view_count": null,
      "_view_module": "@jupyter-widgets/base",
      "_view_module_version": "1.2.0",
      "_view_name": "StyleView",
      "description_width": ""
     }
    },
    "7a22922189644fd3a646752b23106864": {
     "model_module": "@jupyter-widgets/base",
     "model_name": "LayoutModel",
     "state": {
      "_model_module": "@jupyter-widgets/base",
      "_model_module_version": "1.2.0",
      "_model_name": "LayoutModel",
      "_view_count": null,
      "_view_module": "@jupyter-widgets/base",
      "_view_module_version": "1.2.0",
      "_view_name": "LayoutView",
      "align_content": null,
      "align_items": null,
      "align_self": null,
      "border": null,
      "bottom": null,
      "display": null,
      "flex": null,
      "flex_flow": null,
      "grid_area": null,
      "grid_auto_columns": null,
      "grid_auto_flow": null,
      "grid_auto_rows": null,
      "grid_column": null,
      "grid_gap": null,
      "grid_row": null,
      "grid_template_areas": null,
      "grid_template_columns": null,
      "grid_template_rows": null,
      "height": null,
      "justify_content": null,
      "justify_items": null,
      "left": null,
      "margin": null,
      "max_height": null,
      "max_width": null,
      "min_height": null,
      "min_width": null,
      "object_fit": null,
      "object_position": null,
      "order": null,
      "overflow": null,
      "overflow_x": null,
      "overflow_y": null,
      "padding": null,
      "right": null,
      "top": null,
      "visibility": null,
      "width": null
     }
    },
    "7f04bf24d73946f39f2c54908f775201": {
     "model_module": "@jupyter-widgets/controls",
     "model_name": "HTMLModel",
     "state": {
      "_dom_classes": [],
      "_model_module": "@jupyter-widgets/controls",
      "_model_module_version": "1.5.0",
      "_model_name": "HTMLModel",
      "_view_count": null,
      "_view_module": "@jupyter-widgets/controls",
      "_view_module_version": "1.5.0",
      "_view_name": "HTMLView",
      "description": "",
      "description_tooltip": null,
      "layout": "IPY_MODEL_69df46035dad492a92021bb3670f8fd3",
      "placeholder": "​",
      "style": "IPY_MODEL_aaf77df9f2c44b41b296d8a55af99e06",
      "value": "8192it [00:00, 82209.77it/s]"
     }
    },
    "7f4a7329396f4a619ba1ff758715d17d": {
     "model_module": "@jupyter-widgets/controls",
     "model_name": "HTMLModel",
     "state": {
      "_dom_classes": [],
      "_model_module": "@jupyter-widgets/controls",
      "_model_module_version": "1.5.0",
      "_model_name": "HTMLModel",
      "_view_count": null,
      "_view_module": "@jupyter-widgets/controls",
      "_view_module_version": "1.5.0",
      "_view_name": "HTMLView",
      "description": "",
      "description_tooltip": null,
      "layout": "IPY_MODEL_98a8cbfc29c245069d5c6e52e0650645",
      "placeholder": "​",
      "style": "IPY_MODEL_da217490de3b4a9e9e7fcad7f46de3e7",
      "value": "1654784it [00:00, 2308209.90it/s]"
     }
    },
    "868ddc7845984a47ab6b8354927c75a3": {
     "model_module": "@jupyter-widgets/controls",
     "model_name": "HBoxModel",
     "state": {
      "_dom_classes": [],
      "_model_module": "@jupyter-widgets/controls",
      "_model_module_version": "1.5.0",
      "_model_name": "HBoxModel",
      "_view_count": null,
      "_view_module": "@jupyter-widgets/controls",
      "_view_module_version": "1.5.0",
      "_view_name": "HBoxView",
      "box_style": "",
      "children": [
       "IPY_MODEL_f8251a7869344c898a631c7d170b1cd2",
       "IPY_MODEL_f57b7a6c3e61445089a76cb17c50a08b"
      ],
      "layout": "IPY_MODEL_991fe96b69e94218aa8a48b7c6478018"
     }
    },
    "98a8cbfc29c245069d5c6e52e0650645": {
     "model_module": "@jupyter-widgets/base",
     "model_name": "LayoutModel",
     "state": {
      "_model_module": "@jupyter-widgets/base",
      "_model_module_version": "1.2.0",
      "_model_name": "LayoutModel",
      "_view_count": null,
      "_view_module": "@jupyter-widgets/base",
      "_view_module_version": "1.2.0",
      "_view_name": "LayoutView",
      "align_content": null,
      "align_items": null,
      "align_self": null,
      "border": null,
      "bottom": null,
      "display": null,
      "flex": null,
      "flex_flow": null,
      "grid_area": null,
      "grid_auto_columns": null,
      "grid_auto_flow": null,
      "grid_auto_rows": null,
      "grid_column": null,
      "grid_gap": null,
      "grid_row": null,
      "grid_template_areas": null,
      "grid_template_columns": null,
      "grid_template_rows": null,
      "height": null,
      "justify_content": null,
      "justify_items": null,
      "left": null,
      "margin": null,
      "max_height": null,
      "max_width": null,
      "min_height": null,
      "min_width": null,
      "object_fit": null,
      "object_position": null,
      "order": null,
      "overflow": null,
      "overflow_x": null,
      "overflow_y": null,
      "padding": null,
      "right": null,
      "top": null,
      "visibility": null,
      "width": null
     }
    },
    "991fe96b69e94218aa8a48b7c6478018": {
     "model_module": "@jupyter-widgets/base",
     "model_name": "LayoutModel",
     "state": {
      "_model_module": "@jupyter-widgets/base",
      "_model_module_version": "1.2.0",
      "_model_name": "LayoutModel",
      "_view_count": null,
      "_view_module": "@jupyter-widgets/base",
      "_view_module_version": "1.2.0",
      "_view_name": "LayoutView",
      "align_content": null,
      "align_items": null,
      "align_self": null,
      "border": null,
      "bottom": null,
      "display": null,
      "flex": null,
      "flex_flow": null,
      "grid_area": null,
      "grid_auto_columns": null,
      "grid_auto_flow": null,
      "grid_auto_rows": null,
      "grid_column": null,
      "grid_gap": null,
      "grid_row": null,
      "grid_template_areas": null,
      "grid_template_columns": null,
      "grid_template_rows": null,
      "height": null,
      "justify_content": null,
      "justify_items": null,
      "left": null,
      "margin": null,
      "max_height": null,
      "max_width": null,
      "min_height": null,
      "min_width": null,
      "object_fit": null,
      "object_position": null,
      "order": null,
      "overflow": null,
      "overflow_x": null,
      "overflow_y": null,
      "padding": null,
      "right": null,
      "top": null,
      "visibility": null,
      "width": null
     }
    },
    "9960059b67bf49aea51e3dc2255e8d32": {
     "model_module": "@jupyter-widgets/controls",
     "model_name": "HBoxModel",
     "state": {
      "_dom_classes": [],
      "_model_module": "@jupyter-widgets/controls",
      "_model_module_version": "1.5.0",
      "_model_name": "HBoxModel",
      "_view_count": null,
      "_view_module": "@jupyter-widgets/controls",
      "_view_module_version": "1.5.0",
      "_view_name": "HBoxView",
      "box_style": "",
      "children": [
       "IPY_MODEL_13573f73d9084656abad4e48f149ba9d",
       "IPY_MODEL_7f4a7329396f4a619ba1ff758715d17d"
      ],
      "layout": "IPY_MODEL_4c5d1c7db74a434ab708eeff61f8bf12"
     }
    },
    "aaf77df9f2c44b41b296d8a55af99e06": {
     "model_module": "@jupyter-widgets/controls",
     "model_name": "DescriptionStyleModel",
     "state": {
      "_model_module": "@jupyter-widgets/controls",
      "_model_module_version": "1.5.0",
      "_model_name": "DescriptionStyleModel",
      "_view_count": null,
      "_view_module": "@jupyter-widgets/base",
      "_view_module_version": "1.2.0",
      "_view_name": "StyleView",
      "description_width": ""
     }
    },
    "ac5cb12998d14b55bcdb0c1fc39cbd85": {
     "model_module": "@jupyter-widgets/base",
     "model_name": "LayoutModel",
     "state": {
      "_model_module": "@jupyter-widgets/base",
      "_model_module_version": "1.2.0",
      "_model_name": "LayoutModel",
      "_view_count": null,
      "_view_module": "@jupyter-widgets/base",
      "_view_module_version": "1.2.0",
      "_view_name": "LayoutView",
      "align_content": null,
      "align_items": null,
      "align_self": null,
      "border": null,
      "bottom": null,
      "display": null,
      "flex": null,
      "flex_flow": null,
      "grid_area": null,
      "grid_auto_columns": null,
      "grid_auto_flow": null,
      "grid_auto_rows": null,
      "grid_column": null,
      "grid_gap": null,
      "grid_row": null,
      "grid_template_areas": null,
      "grid_template_columns": null,
      "grid_template_rows": null,
      "height": null,
      "justify_content": null,
      "justify_items": null,
      "left": null,
      "margin": null,
      "max_height": null,
      "max_width": null,
      "min_height": null,
      "min_width": null,
      "object_fit": null,
      "object_position": null,
      "order": null,
      "overflow": null,
      "overflow_x": null,
      "overflow_y": null,
      "padding": null,
      "right": null,
      "top": null,
      "visibility": null,
      "width": null
     }
    },
    "b34a97cf4a0e4e5db3cfcb83d9726e68": {
     "model_module": "@jupyter-widgets/base",
     "model_name": "LayoutModel",
     "state": {
      "_model_module": "@jupyter-widgets/base",
      "_model_module_version": "1.2.0",
      "_model_name": "LayoutModel",
      "_view_count": null,
      "_view_module": "@jupyter-widgets/base",
      "_view_module_version": "1.2.0",
      "_view_name": "LayoutView",
      "align_content": null,
      "align_items": null,
      "align_self": null,
      "border": null,
      "bottom": null,
      "display": null,
      "flex": null,
      "flex_flow": null,
      "grid_area": null,
      "grid_auto_columns": null,
      "grid_auto_flow": null,
      "grid_auto_rows": null,
      "grid_column": null,
      "grid_gap": null,
      "grid_row": null,
      "grid_template_areas": null,
      "grid_template_columns": null,
      "grid_template_rows": null,
      "height": null,
      "justify_content": null,
      "justify_items": null,
      "left": null,
      "margin": null,
      "max_height": null,
      "max_width": null,
      "min_height": null,
      "min_width": null,
      "object_fit": null,
      "object_position": null,
      "order": null,
      "overflow": null,
      "overflow_x": null,
      "overflow_y": null,
      "padding": null,
      "right": null,
      "top": null,
      "visibility": null,
      "width": null
     }
    },
    "b9209b9d3d0642b582ff78ada2aae729": {
     "model_module": "@jupyter-widgets/controls",
     "model_name": "IntProgressModel",
     "state": {
      "_dom_classes": [],
      "_model_module": "@jupyter-widgets/controls",
      "_model_module_version": "1.5.0",
      "_model_name": "IntProgressModel",
      "_view_count": null,
      "_view_module": "@jupyter-widgets/controls",
      "_view_module_version": "1.5.0",
      "_view_name": "ProgressView",
      "bar_style": "success",
      "description": "",
      "description_tooltip": null,
      "layout": "IPY_MODEL_ac5cb12998d14b55bcdb0c1fc39cbd85",
      "max": 1,
      "min": 0,
      "orientation": "horizontal",
      "style": "IPY_MODEL_6deb8d65a8964424b3470a1b10fc5500",
      "value": 1
     }
    },
    "cdacd45c3f0e4f75b81f196de725d7a6": {
     "model_module": "@jupyter-widgets/controls",
     "model_name": "ProgressStyleModel",
     "state": {
      "_model_module": "@jupyter-widgets/controls",
      "_model_module_version": "1.5.0",
      "_model_name": "ProgressStyleModel",
      "_view_count": null,
      "_view_module": "@jupyter-widgets/base",
      "_view_module_version": "1.2.0",
      "_view_name": "StyleView",
      "bar_color": null,
      "description_width": ""
     }
    },
    "cf63e8ccd272418c8494fd6d827f2a61": {
     "model_module": "@jupyter-widgets/base",
     "model_name": "LayoutModel",
     "state": {
      "_model_module": "@jupyter-widgets/base",
      "_model_module_version": "1.2.0",
      "_model_name": "LayoutModel",
      "_view_count": null,
      "_view_module": "@jupyter-widgets/base",
      "_view_module_version": "1.2.0",
      "_view_name": "LayoutView",
      "align_content": null,
      "align_items": null,
      "align_self": null,
      "border": null,
      "bottom": null,
      "display": null,
      "flex": null,
      "flex_flow": null,
      "grid_area": null,
      "grid_auto_columns": null,
      "grid_auto_flow": null,
      "grid_auto_rows": null,
      "grid_column": null,
      "grid_gap": null,
      "grid_row": null,
      "grid_template_areas": null,
      "grid_template_columns": null,
      "grid_template_rows": null,
      "height": null,
      "justify_content": null,
      "justify_items": null,
      "left": null,
      "margin": null,
      "max_height": null,
      "max_width": null,
      "min_height": null,
      "min_width": null,
      "object_fit": null,
      "object_position": null,
      "order": null,
      "overflow": null,
      "overflow_x": null,
      "overflow_y": null,
      "padding": null,
      "right": null,
      "top": null,
      "visibility": null,
      "width": null
     }
    },
    "d52bb3dee45740bf8be8ef7f1405dae7": {
     "model_module": "@jupyter-widgets/base",
     "model_name": "LayoutModel",
     "state": {
      "_model_module": "@jupyter-widgets/base",
      "_model_module_version": "1.2.0",
      "_model_name": "LayoutModel",
      "_view_count": null,
      "_view_module": "@jupyter-widgets/base",
      "_view_module_version": "1.2.0",
      "_view_name": "LayoutView",
      "align_content": null,
      "align_items": null,
      "align_self": null,
      "border": null,
      "bottom": null,
      "display": null,
      "flex": null,
      "flex_flow": null,
      "grid_area": null,
      "grid_auto_columns": null,
      "grid_auto_flow": null,
      "grid_auto_rows": null,
      "grid_column": null,
      "grid_gap": null,
      "grid_row": null,
      "grid_template_areas": null,
      "grid_template_columns": null,
      "grid_template_rows": null,
      "height": null,
      "justify_content": null,
      "justify_items": null,
      "left": null,
      "margin": null,
      "max_height": null,
      "max_width": null,
      "min_height": null,
      "min_width": null,
      "object_fit": null,
      "object_position": null,
      "order": null,
      "overflow": null,
      "overflow_x": null,
      "overflow_y": null,
      "padding": null,
      "right": null,
      "top": null,
      "visibility": null,
      "width": null
     }
    },
    "d83d04fbcc634935ab6f8a496eb90b71": {
     "model_module": "@jupyter-widgets/base",
     "model_name": "LayoutModel",
     "state": {
      "_model_module": "@jupyter-widgets/base",
      "_model_module_version": "1.2.0",
      "_model_name": "LayoutModel",
      "_view_count": null,
      "_view_module": "@jupyter-widgets/base",
      "_view_module_version": "1.2.0",
      "_view_name": "LayoutView",
      "align_content": null,
      "align_items": null,
      "align_self": null,
      "border": null,
      "bottom": null,
      "display": null,
      "flex": null,
      "flex_flow": null,
      "grid_area": null,
      "grid_auto_columns": null,
      "grid_auto_flow": null,
      "grid_auto_rows": null,
      "grid_column": null,
      "grid_gap": null,
      "grid_row": null,
      "grid_template_areas": null,
      "grid_template_columns": null,
      "grid_template_rows": null,
      "height": null,
      "justify_content": null,
      "justify_items": null,
      "left": null,
      "margin": null,
      "max_height": null,
      "max_width": null,
      "min_height": null,
      "min_width": null,
      "object_fit": null,
      "object_position": null,
      "order": null,
      "overflow": null,
      "overflow_x": null,
      "overflow_y": null,
      "padding": null,
      "right": null,
      "top": null,
      "visibility": null,
      "width": null
     }
    },
    "da217490de3b4a9e9e7fcad7f46de3e7": {
     "model_module": "@jupyter-widgets/controls",
     "model_name": "DescriptionStyleModel",
     "state": {
      "_model_module": "@jupyter-widgets/controls",
      "_model_module_version": "1.5.0",
      "_model_name": "DescriptionStyleModel",
      "_view_count": null,
      "_view_module": "@jupyter-widgets/base",
      "_view_module_version": "1.2.0",
      "_view_name": "StyleView",
      "description_width": ""
     }
    },
    "e214f7a1bbf94318b801114abf81cd36": {
     "model_module": "@jupyter-widgets/controls",
     "model_name": "ProgressStyleModel",
     "state": {
      "_model_module": "@jupyter-widgets/controls",
      "_model_module_version": "1.5.0",
      "_model_name": "ProgressStyleModel",
      "_view_count": null,
      "_view_module": "@jupyter-widgets/base",
      "_view_module_version": "1.2.0",
      "_view_name": "StyleView",
      "bar_color": null,
      "description_width": ""
     }
    },
    "f57b7a6c3e61445089a76cb17c50a08b": {
     "model_module": "@jupyter-widgets/controls",
     "model_name": "HTMLModel",
     "state": {
      "_dom_classes": [],
      "_model_module": "@jupyter-widgets/controls",
      "_model_module_version": "1.5.0",
      "_model_name": "HTMLModel",
      "_view_count": null,
      "_view_module": "@jupyter-widgets/controls",
      "_view_module_version": "1.5.0",
      "_view_name": "HTMLView",
      "description": "",
      "description_tooltip": null,
      "layout": "IPY_MODEL_03bd0d68849445d3bef8b174ea5928bd",
      "placeholder": "​",
      "style": "IPY_MODEL_7401a52290354e969cc2ecf71210ad9a",
      "value": "32768it [00:00, 264159.38it/s]"
     }
    },
    "f8251a7869344c898a631c7d170b1cd2": {
     "model_module": "@jupyter-widgets/controls",
     "model_name": "IntProgressModel",
     "state": {
      "_dom_classes": [],
      "_model_module": "@jupyter-widgets/controls",
      "_model_module_version": "1.5.0",
      "_model_name": "IntProgressModel",
      "_view_count": null,
      "_view_module": "@jupyter-widgets/controls",
      "_view_module_version": "1.5.0",
      "_view_name": "ProgressView",
      "bar_style": "success",
      "description": "",
      "description_tooltip": null,
      "layout": "IPY_MODEL_072b453d24a8414c87b07d4338c8884f",
      "max": 1,
      "min": 0,
      "orientation": "horizontal",
      "style": "IPY_MODEL_cdacd45c3f0e4f75b81f196de725d7a6",
      "value": 1
     }
    }
   }
  }
 },
 "nbformat": 4,
 "nbformat_minor": 1
}
